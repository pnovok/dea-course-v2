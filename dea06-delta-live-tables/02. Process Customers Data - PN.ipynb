{
 "cells": [
  {
   "cell_type": "code",
   "execution_count": 0,
   "metadata": {
    "application/vnd.databricks.v1+cell": {
     "cellMetadata": {
      "byteLimit": 2048000,
      "implicitDf": true,
      "rowLimit": 10000
     },
     "inputWidgets": {},
     "nuid": "f8729325-d08f-44ea-a35d-610957b8f286",
     "showTitle": false,
     "tableResultSettingsMap": {},
     "title": ""
    }
   },
   "outputs": [],
   "source": [
    "CREATE OR REFRESH STREAMING TABLE bronze_customers\n",
    "COMMENT 'Raw customers data ingested from the source system operational data'\n",
    "TBLPROPERTIES ('quality' = 'bronze')\n",
    "AS \n",
    "SELECT *,\n",
    "       _metadata.file_path AS input_file_path,\n",
    "       CURRENT_TIMESTAMP AS ingestion_timestamp\n",
    "FROM cloud_files(\n",
    "  '/Volumes/circuitbox/landing/operational_data/customers/',\n",
    "  'json',\n",
    "  map('cloudFiles.inferColumnTypes', 'true')\n",
    ");"
   ]
  },
  {
   "cell_type": "code",
   "execution_count": 0,
   "metadata": {
    "application/vnd.databricks.v1+cell": {
     "cellMetadata": {},
     "inputWidgets": {},
     "nuid": "aa7122c6-ad2a-4423-9c00-55b8f86908ca",
     "showTitle": false,
     "tableResultSettingsMap": {},
     "title": ""
    }
   },
   "outputs": [],
   "source": [
    "CREATE OR REFRESH STREAMING TABLE silver_customers_clean(\n",
    "  CONSTRAINT valid_customer_id EXPECT (customer_id IS NOT NULL) ON VIOLATION FAIL UPDATE,\n",
    "  CONSTRAINT valid_customer_name EXPECT (customer_name IS NOT NULL) ON VIOLATION DROP ROW,\n",
    "  CONSTRAINT valid_telephone EXPECT (LENGTH(telephone) >= 10),\n",
    "  CONSTRAINT valid_email EXPECT (email IS NOT NULL),\n",
    "  CONSTRAINT valid_date_of_birth EXPECT(date_of_birth >= '1920-01-01') \n",
    ")\n",
    "COMMENT 'Cleaned customers data'\n",
    "TBLPROPERTIES ('quality' = 'silver')\n",
    "AS\n",
    "SELECT customer_id,\n",
    "       customer_name,\n",
    "       CAST(date_of_birth AS DATE) AS date_of_birth,\n",
    "       telephone,\n",
    "       email,\n",
    "       CAST(created_date AS DATE) AS created_date\n",
    "  FROM STREAM(LIVE.bronze_customers)"
   ]
  },
  {
   "cell_type": "code",
   "execution_count": 0,
   "metadata": {
    "application/vnd.databricks.v1+cell": {
     "cellMetadata": {},
     "inputWidgets": {},
     "nuid": "75102eea-487b-4b4c-b9d9-698419729d6d",
     "showTitle": false,
     "tableResultSettingsMap": {},
     "title": ""
    }
   },
   "outputs": [],
   "source": [
    "CREATE OR REFRESH STREAMING TABLE silver_customers\n",
    "COMMENT 'SCD Type 1 customers data'\n",
    "TBLPROPERTIES ('quality' = 'silver');"
   ]
  },
  {
   "cell_type": "code",
   "execution_count": 0,
   "metadata": {
    "application/vnd.databricks.v1+cell": {
     "cellMetadata": {},
     "inputWidgets": {},
     "nuid": "f1313405-5437-4d07-a7ea-e7a5a27015ec",
     "showTitle": false,
     "tableResultSettingsMap": {},
     "title": ""
    }
   },
   "outputs": [],
   "source": [
    "APPLY CHANGES INTO LIVE.silver_customers\n",
    "FROM STREAM(LIVE.silver_customers_clean)\n",
    "KEYS (customer_id)\n",
    "SEQUENCE BY created_date\n",
    "STORED AS SCD TYPE 1; -- Optional. Type 1 is the default value"
   ]
  }
 ],
 "metadata": {
  "application/vnd.databricks.v1+notebook": {
   "computePreferences": null,
   "dashboards": [],
   "environmentMetadata": {
    "base_environment": "",
    "environment_version": "2"
   },
   "inputWidgetPreferences": null,
   "language": "sql",
   "notebookMetadata": {
    "mostRecentlyExecutedCommandWithImplicitDF": {
     "commandId": 2588019255122373,
     "dataframes": [
      "_sqldf"
     ]
    },
    "pythonIndentUnit": 2
   },
   "notebookName": "02. Process Customers Data - PN",
   "widgets": {}
  },
  "language_info": {
   "name": "sql"
  }
 },
 "nbformat": 4,
 "nbformat_minor": 0
}
